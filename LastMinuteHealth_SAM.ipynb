{
 "cells": [
  {
   "cell_type": "markdown",
   "metadata": {},
   "source": [
    "# LastMinuteHealth - Sam"
   ]
  },
  {
   "cell_type": "markdown",
   "metadata": {},
   "source": [
    "### Before Start: Import Libraries & Download VCL Media Player (https://www.videolan.org/vlc/)"
   ]
  },
  {
   "cell_type": "code",
   "execution_count": 157,
   "metadata": {},
   "outputs": [
    {
     "name": "stdout",
     "output_type": "stream",
     "text": [
      "Requirement already satisfied: numpy in /opt/anaconda3/lib/python3.8/site-packages (1.19.2)\n",
      "Requirement already satisfied: matplotlib in /opt/anaconda3/lib/python3.8/site-packages (3.3.2)\n",
      "Requirement already satisfied: pyparsing!=2.0.4,!=2.1.2,!=2.1.6,>=2.0.3 in /opt/anaconda3/lib/python3.8/site-packages (from matplotlib) (2.4.7)\n",
      "Requirement already satisfied: cycler>=0.10 in /opt/anaconda3/lib/python3.8/site-packages (from matplotlib) (0.10.0)\n",
      "Requirement already satisfied: numpy>=1.15 in /opt/anaconda3/lib/python3.8/site-packages (from matplotlib) (1.19.2)\n",
      "Requirement already satisfied: kiwisolver>=1.0.1 in /opt/anaconda3/lib/python3.8/site-packages (from matplotlib) (1.3.0)\n",
      "Requirement already satisfied: certifi>=2020.06.20 in /opt/anaconda3/lib/python3.8/site-packages (from matplotlib) (2020.6.20)\n",
      "Requirement already satisfied: pillow>=6.2.0 in /opt/anaconda3/lib/python3.8/site-packages (from matplotlib) (8.0.1)\n",
      "Requirement already satisfied: python-dateutil>=2.1 in /opt/anaconda3/lib/python3.8/site-packages (from matplotlib) (2.8.1)\n",
      "Requirement already satisfied: six in /opt/anaconda3/lib/python3.8/site-packages (from cycler>=0.10->matplotlib) (1.15.0)\n",
      "Requirement already satisfied: scipy in /opt/anaconda3/lib/python3.8/site-packages (1.5.2)\n",
      "Requirement already satisfied: numpy>=1.14.5 in /opt/anaconda3/lib/python3.8/site-packages (from scipy) (1.19.2)\n",
      "Requirement already satisfied: python-vlc in /opt/anaconda3/lib/python3.8/site-packages (3.0.12118)\n",
      "\n",
      "Done!\n"
     ]
    }
   ],
   "source": [
    "import sys\n",
    "!{sys.executable} -m pip install numpy\n",
    "!{sys.executable} -m pip install matplotlib\n",
    "!{sys.executable} -m pip install scipy\n",
    "!{sys.executable} -m pip install python-vlc\n",
    "\n",
    "import matplotlib.pyplot as plt\n",
    "import numpy as np\n",
    "from scipy.io import wavfile\n",
    "from scipy import signal\n",
    "import vlc\n",
    "import time\n",
    "import random\n",
    "import os\n",
    "\n",
    "print(\"\\nDone!\")"
   ]
  },
  {
   "cell_type": "code",
   "execution_count": 181,
   "metadata": {},
   "outputs": [
    {
     "name": "stdout",
     "output_type": "stream",
     "text": [
      "1627860560.924577\n",
      "runnning\n",
      "Press enter to stop\n",
      "1627860566.484658\n"
     ]
    }
   ],
   "source": [
    "total_start_time = time.time()\n",
    "print(total_start_time)\n",
    "t = time.time()\n",
    "\n",
    "while (t != total_end_time):\n",
    "    print('runnning')\n",
    "    manual_stop = input(\"Press enter to stop\")\n",
    "    total_end_time = time.time() \n",
    "    t = total_end_time\n",
    "    if (t<total_end_time):\n",
    "        continue\n",
    "    else:\n",
    "        break\n",
    "\n",
    "print(total_end_time)"
   ]
  },
  {
   "cell_type": "markdown",
   "metadata": {},
   "source": [
    "### Main Code - Version 1 (Goal Work Time)"
   ]
  },
  {
   "cell_type": "code",
   "execution_count": 180,
   "metadata": {},
   "outputs": [
    {
     "ename": "IndentationError",
     "evalue": "unindent does not match any outer indentation level (<tokenize>, line 135)",
     "output_type": "error",
     "traceback": [
      "\u001b[0;36m  File \u001b[0;32m\"<tokenize>\"\u001b[0;36m, line \u001b[0;32m135\u001b[0m\n\u001b[0;31m    if t < goal:\u001b[0m\n\u001b[0m    ^\u001b[0m\n\u001b[0;31mIndentationError\u001b[0m\u001b[0;31m:\u001b[0m unindent does not match any outer indentation level\n"
     ]
    }
   ],
   "source": [
    "#SET YOUR GOAL WORK TIME (IN MINUTES)\n",
    "goal = input(\"Goal work time in minutes\")\n",
    "\n",
    "\n",
    "flow_counter = 0\n",
    "t = 0\n",
    "\n",
    "while (t < int(goal)):\n",
    "        t = (time.time())/60\n",
    "\n",
    "        #IMPORT DATA - *LIVE DATA INPUT GOES HERE - call it channelData*\n",
    "        channelData = []\n",
    "        with open(\"data/two_calm.csv\", \"r\") as data:\n",
    "            for line in data:\n",
    "                line = line.split(\",\")\n",
    "                channelData.append(float(line[0]))\n",
    "\n",
    "        for point in range(len(channelData)):\n",
    "            if(point%2 != 0):\n",
    "                channelData[point] = channelData[point-1]\n",
    "\n",
    "        #FFT\n",
    "        fftData = np.fft.fft(channelData)\n",
    "        freq = np.fft.fftfreq(len(channelData))*250\n",
    "\n",
    "        #REMOVE SYMMETRIC NEGATIVE DATA\n",
    "        fftData = fftData[1:int(len(fftData)/2)]\n",
    "        freq = freq[1:int(len(freq)/2)]\n",
    "\n",
    "        #FFT FORMULA WITH IMAGONARY COMPONENT\n",
    "        fftData = np.sqrt(fftData.real**2 + fftData.imag**2)\n",
    "\n",
    "        #REMOVE UPPER FREQUENCIES\n",
    "        freq = freq[0:50000]\n",
    "        fftData = fftData[0:50000]\n",
    "\n",
    "        #FREQUENCY DOMAIN PLOT\n",
    "        plt.plot(freq, fftData)\n",
    "        plt.xlabel(\"Frequency (Hz)\")\n",
    "        plt.ylabel(\"Magnitude\")\n",
    "        plt.show()\n",
    "        plt.clf()\n",
    "\n",
    "        #DEFINE BINS FOR BRAINWAVE TYPES\n",
    "        bandTotals = [0,0,0,0,0]\n",
    "        bandCounts = [0,0,0,0,0]\n",
    "\n",
    "        for point in range(len(freq)):\n",
    "            if(freq[point] < 4):\n",
    "                bandTotals[0] += fftData[point]\n",
    "                bandCounts[0] += 1\n",
    "            elif(freq[point] < 8):\n",
    "                bandTotals[1] += fftData[point]\n",
    "                bandCounts[1] += 1\n",
    "            elif(freq[point] < 12):\n",
    "                bandTotals[2] += fftData[point]\n",
    "                bandCounts[2] += 1\n",
    "            elif(freq[point] < 30):\n",
    "                bandTotals[3] += fftData[point]\n",
    "                bandCounts[3] += 1\n",
    "            elif(freq[point] > 30):\n",
    "                bandTotals[4] += fftData[point]\n",
    "                bandCounts[4] += 1\n",
    "\n",
    "        #SAVE AVG OF ALL POINTS \n",
    "        bands = list(np.array(bandTotals)/np.array(bandCounts))\n",
    "\n",
    "        #BAR GRAPH WITH BRAINWAVE BINS\n",
    "        def plotBands(bands):\n",
    "            binNames = [\"Delta\", \"Theta\", \"Alpha\", \"Beta\", \"Gamma\"]\n",
    "            plt.ylabel(\"Amplitude\")\n",
    "            plt.bar(binNames, bands, color=\"#7967e1\")\n",
    "            plt.show()\n",
    "            plt.clf()\n",
    "\n",
    "        plotBands(bands)\n",
    "\n",
    "        #IDENTIFY MOST PREVALENT WAVE TYPE\n",
    "        waveType = {\n",
    "            bands[0]:\"Delta\",\n",
    "            bands[1]:\"Theta\",\n",
    "            bands[2]:\"Alpha\",\n",
    "            bands[3]:\"Beta\",\n",
    "            bands[4]:\"Gamma\",}\n",
    "\n",
    "#         max_waveType = waveType[max(bands)]\n",
    "#         print(waveType[max(bands)])\n",
    "        max_waveType = waveType[bands[2]] #use this to test\n",
    "\n",
    "        #COMPARE MAX WAVE TYPE TO FLOW STATE (Alpha or Theta) vs TOO HYPER (Gamma or Beta) vs TOO RELAXED (Delta)\n",
    "\n",
    "        if max_waveType == (waveType[bands[1]]) or max_waveType == (waveType[bands[2]]): #is most prevalent wave type alpha or theta?\n",
    "            # Start Flow Timer\n",
    "            print(\"Start Flow\")\n",
    "            flow_start_time = time.time()\n",
    "            print(flow_start_time)\n",
    "\n",
    "            print(\"You are in FLOW!\")\n",
    "\n",
    "            #Play Flow Music\n",
    "            player = vlc.MediaPlayer(\"file:///Users/sam/Desktop/NatHacks/LastMinuteHealth/Music/Chill music/\" + random.choice(os.listdir(\"/Users/sam/Desktop/NatHacks/LastMinuteHealth/Music/Chill music\")))\n",
    "            player.play()\n",
    "            time.sleep(10)\n",
    "            player.stop()\n",
    "\n",
    "            # End Flow Timer\n",
    "            flow_end_time = time.time()\n",
    "            print(\"End Flow\")\n",
    "            print(flow_end_time)\n",
    "            print(\"--------------------\")\n",
    "            flow_duration = (flow_end_time - flow_start_time)/60 #converts second to minutes\n",
    "            \n",
    "            #TOTAL FLOW COUNTER\n",
    "            flow_counter =+ flow_duration\n",
    "\n",
    "\n",
    "        elif max_waveType == waveType[bands[0]]: #is most prevalent wave type delta?\n",
    "\n",
    "            print(\"You are not in FLOW.\")\n",
    "\n",
    "            player = vlc.MediaPlayer(\"file:///Users/sam/Desktop/NatHacks/LastMinuteHealth/Music/Hype music/\" + random.choice(os.listdir(\"/Users/sam/Desktop/NatHacks/LastMinuteHealth/Music/Hype music\")))\n",
    "            player.play()\n",
    "            #time.sleep(10)\n",
    "            #player.stop()\n",
    "\n",
    "        elif max_waveType == (waveType[bands[3]]) or max_waveType == (waveType[bands[4]]): #is most prevalent wave type beta or gamma?\n",
    "\n",
    "            print(\"You are not in FLOW.\")\n",
    "\n",
    "            player = vlc.MediaPlayer(\"file:///Users/sam/Desktop/NatHacks/LastMinuteHealth/Music/Relax music/\" + random.choice(os.listdir(\"/Users/sam/Desktop/NatHacks/LastMinuteHealth/Music/Relax music\")))\n",
    "            player.play()\n",
    "            #time.sleep(10)\n",
    "            #player.stop()\n",
    "\n",
    "if t < goal:\n",
    "    continue\n",
    "else:\n",
    "    break\n",
    "    print(\"You spent \" + str(flow_counter) + \" minutes of \" + str(goal) + \" minutes in the FLOW state.\")"
   ]
  },
  {
   "cell_type": "markdown",
   "metadata": {},
   "source": [
    "# Main Code - Version 2 (Timer)"
   ]
  },
  {
   "cell_type": "code",
   "execution_count": null,
   "metadata": {},
   "outputs": [],
   "source": [
    "# print(\"Start time\")\n",
    "# total_start_time = time.time()\n",
    "# print(total_start_time\n",
    "\n",
    "flow_counter = 0\n",
    "t = 0\n",
    "\n",
    "while (t < int(goal)):\n",
    "        t = (time.time())/60\n",
    "\n",
    "        #IMPORT DATA - *LIVE DATA INPUT GOES HERE - call it channelData*\n",
    "        channelData = []\n",
    "        with open(\"data/two_calm.csv\", \"r\") as data:\n",
    "            for line in data:\n",
    "                line = line.split(\",\")\n",
    "                channelData.append(float(line[0]))\n",
    "\n",
    "        for point in range(len(channelData)):\n",
    "            if(point%2 != 0):\n",
    "                channelData[point] = channelData[point-1]\n",
    "\n",
    "        #FFT\n",
    "        fftData = np.fft.fft(channelData)\n",
    "        freq = np.fft.fftfreq(len(channelData))*250\n",
    "\n",
    "        #REMOVE SYMMETRIC NEGATIVE DATA\n",
    "        fftData = fftData[1:int(len(fftData)/2)]\n",
    "        freq = freq[1:int(len(freq)/2)]\n",
    "\n",
    "        #FFT FORMULA WITH IMAGONARY COMPONENT\n",
    "        fftData = np.sqrt(fftData.real**2 + fftData.imag**2)\n",
    "\n",
    "        #REMOVE UPPER FREQUENCIES\n",
    "        freq = freq[0:50000]\n",
    "        fftData = fftData[0:50000]\n",
    "\n",
    "        #FREQUENCY DOMAIN PLOT\n",
    "        plt.plot(freq, fftData)\n",
    "        plt.xlabel(\"Frequency (Hz)\")\n",
    "        plt.ylabel(\"Magnitude\")\n",
    "        plt.show()\n",
    "        plt.clf()\n",
    "\n",
    "        #DEFINE BINS FOR BRAINWAVE TYPES\n",
    "        bandTotals = [0,0,0,0,0]\n",
    "        bandCounts = [0,0,0,0,0]\n",
    "\n",
    "        for point in range(len(freq)):\n",
    "            if(freq[point] < 4):\n",
    "                bandTotals[0] += fftData[point]\n",
    "                bandCounts[0] += 1\n",
    "            elif(freq[point] < 8):\n",
    "                bandTotals[1] += fftData[point]\n",
    "                bandCounts[1] += 1\n",
    "            elif(freq[point] < 12):\n",
    "                bandTotals[2] += fftData[point]\n",
    "                bandCounts[2] += 1\n",
    "            elif(freq[point] < 30):\n",
    "                bandTotals[3] += fftData[point]\n",
    "                bandCounts[3] += 1\n",
    "            elif(freq[point] > 30):\n",
    "                bandTotals[4] += fftData[point]\n",
    "                bandCounts[4] += 1\n",
    "\n",
    "        #SAVE AVG OF ALL POINTS \n",
    "        bands = list(np.array(bandTotals)/np.array(bandCounts))\n",
    "\n",
    "        #BAR GRAPH WITH BRAINWAVE BINS\n",
    "        def plotBands(bands):\n",
    "            binNames = [\"Delta\", \"Theta\", \"Alpha\", \"Beta\", \"Gamma\"]\n",
    "            plt.ylabel(\"Amplitude\")\n",
    "            plt.bar(binNames, bands, color=\"#7967e1\")\n",
    "            plt.show()\n",
    "            plt.clf()\n",
    "\n",
    "        plotBands(bands)\n",
    "\n",
    "        #IDENTIFY MOST PREVALENT WAVE TYPE\n",
    "        waveType = {\n",
    "            bands[0]:\"Delta\",\n",
    "            bands[1]:\"Theta\",\n",
    "            bands[2]:\"Alpha\",\n",
    "            bands[3]:\"Beta\",\n",
    "            bands[4]:\"Gamma\",}\n",
    "\n",
    "#         max_waveType = waveType[max(bands)]\n",
    "#         print(waveType[max(bands)])\n",
    "        max_waveType = waveType[bands[2]] #use this to test\n",
    "\n",
    "        #COMPARE MAX WAVE TYPE TO FLOW STATE (Alpha or Theta) vs TOO HYPER (Gamma or Beta) vs TOO RELAXED (Delta)\n",
    "\n",
    "        if max_waveType == (waveType[bands[1]]) or max_waveType == (waveType[bands[2]]): #is most prevalent wave type alpha or theta?\n",
    "            # Start Flow Timer\n",
    "            print(\"Start Flow\")\n",
    "            flow_start_time = time.time()\n",
    "            print(flow_start_time)\n",
    "\n",
    "            print(\"You are in FLOW!\")\n",
    "\n",
    "            #Play Flow Music\n",
    "            player = vlc.MediaPlayer(\"file:///Users/sam/Desktop/NatHacks/LastMinuteHealth/Music/Chill music/\" + random.choice(os.listdir(\"/Users/sam/Desktop/NatHacks/LastMinuteHealth/Music/Chill music\")))\n",
    "            player.play()\n",
    "            time.sleep(10)\n",
    "            player.stop()\n",
    "\n",
    "            # End Flow Timer\n",
    "            flow_end_time = time.time()\n",
    "            print(\"End Flow\")\n",
    "            print(flow_end_time)\n",
    "            print(\"--------------------\")\n",
    "            flow_duration = (flow_end_time - flow_start_time)/60 #converts second to minutes\n",
    "            \n",
    "            #TOTAL FLOW COUNTER\n",
    "            flow_counter =+ flow_duration\n",
    "\n",
    "\n",
    "        elif max_waveType == waveType[bands[0]]: #is most prevalent wave type delta?\n",
    "\n",
    "            print(\"You are not in FLOW.\")\n",
    "\n",
    "            player = vlc.MediaPlayer(\"file:///Users/sam/Desktop/NatHacks/LastMinuteHealth/Music/Hype music/\" + random.choice(os.listdir(\"/Users/sam/Desktop/NatHacks/LastMinuteHealth/Music/Hype music\")))\n",
    "            player.play()\n",
    "            #time.sleep(10)\n",
    "            #player.stop()\n",
    "\n",
    "        elif max_waveType == (waveType[bands[3]]) or max_waveType == (waveType[bands[4]]): #is most prevalent wave type beta or gamma?\n",
    "\n",
    "            print(\"You are not in FLOW.\")\n",
    "\n",
    "            player = vlc.MediaPlayer(\"file:///Users/sam/Desktop/NatHacks/LastMinuteHealth/Music/Relax music/\" + random.choice(os.listdir(\"/Users/sam/Desktop/NatHacks/LastMinuteHealth/Music/Relax music\")))\n",
    "            player.play()\n",
    "            #time.sleep(10)\n",
    "            #player.stop()\n",
    "\n",
    "            \n",
    "manual_stop = input(\"Press enter to stop\")\n",
    "total_end_time = time.time()\n",
    "print(\"End time\")\n",
    "print(total_end_time)\n",
    "print(\"--------------------\")\n",
    "total_duration = (total_end_time - total_start_time)/60 #converts second to minutes\n",
    "\n",
    "\n",
    "print(\"You spent \" + str(flow_counter) + \" minutes of \" + str(total_duration) + \" minutes in the FLOW state.\")"
   ]
  },
  {
   "cell_type": "markdown",
   "metadata": {},
   "source": [
    "\n",
    "\n",
    "\n",
    "\n",
    "\n",
    "\n",
    "\n",
    "\n",
    "\n",
    "# TROUBLE SHOOTING SECTION BY SECTION"
   ]
  },
  {
   "cell_type": "markdown",
   "metadata": {},
   "source": [
    "### Import Libraries"
   ]
  },
  {
   "cell_type": "code",
   "execution_count": 63,
   "metadata": {},
   "outputs": [
    {
     "name": "stdout",
     "output_type": "stream",
     "text": [
      "Requirement already satisfied: numpy in /opt/anaconda3/lib/python3.8/site-packages (1.19.2)\n",
      "Requirement already satisfied: matplotlib in /opt/anaconda3/lib/python3.8/site-packages (3.3.2)\n",
      "Requirement already satisfied: certifi>=2020.06.20 in /opt/anaconda3/lib/python3.8/site-packages (from matplotlib) (2020.6.20)\n",
      "Requirement already satisfied: cycler>=0.10 in /opt/anaconda3/lib/python3.8/site-packages (from matplotlib) (0.10.0)\n",
      "Requirement already satisfied: python-dateutil>=2.1 in /opt/anaconda3/lib/python3.8/site-packages (from matplotlib) (2.8.1)\n",
      "Requirement already satisfied: kiwisolver>=1.0.1 in /opt/anaconda3/lib/python3.8/site-packages (from matplotlib) (1.3.0)\n",
      "Requirement already satisfied: pillow>=6.2.0 in /opt/anaconda3/lib/python3.8/site-packages (from matplotlib) (8.0.1)\n",
      "Requirement already satisfied: pyparsing!=2.0.4,!=2.1.2,!=2.1.6,>=2.0.3 in /opt/anaconda3/lib/python3.8/site-packages (from matplotlib) (2.4.7)\n",
      "Requirement already satisfied: numpy>=1.15 in /opt/anaconda3/lib/python3.8/site-packages (from matplotlib) (1.19.2)\n",
      "Requirement already satisfied: six in /opt/anaconda3/lib/python3.8/site-packages (from cycler>=0.10->matplotlib) (1.15.0)\n",
      "Requirement already satisfied: scipy in /opt/anaconda3/lib/python3.8/site-packages (1.5.2)\n",
      "Requirement already satisfied: numpy>=1.14.5 in /opt/anaconda3/lib/python3.8/site-packages (from scipy) (1.19.2)\n",
      "Requirement already satisfied: python-vlc in /opt/anaconda3/lib/python3.8/site-packages (3.0.12118)\n",
      "\n",
      "Done!\n"
     ]
    }
   ],
   "source": [
    "import sys\n",
    "!{sys.executable} -m pip install numpy\n",
    "!{sys.executable} -m pip install matplotlib\n",
    "!{sys.executable} -m pip install scipy\n",
    "\n",
    "import matplotlib.pyplot as plt\n",
    "import numpy as np\n",
    "from scipy.io import wavfile\n",
    "from scipy import signal\n",
    "\n",
    "#music\n",
    "#Download VLC Media player onto your device (https://www.videolan.org/vlc/)\n",
    "!{sys.executable} -m pip install python-vlc\n",
    "import vlc\n",
    "import time\n",
    "import random\n",
    "import os\n",
    "\n",
    "print(\"\\nDone!\")"
   ]
  },
  {
   "cell_type": "markdown",
   "metadata": {},
   "source": [
    "### START TOTAL TIMER"
   ]
  },
  {
   "cell_type": "code",
   "execution_count": 108,
   "metadata": {},
   "outputs": [
    {
     "name": "stdout",
     "output_type": "stream",
     "text": [
      "Start time\n",
      "1627851833.005316\n"
     ]
    }
   ],
   "source": [
    "print(\"Start time\")\n",
    "total_start_time = time.time()\n",
    "print(total_start_time)"
   ]
  },
  {
   "cell_type": "markdown",
   "metadata": {},
   "source": [
    "### Import Data"
   ]
  },
  {
   "cell_type": "code",
   "execution_count": 109,
   "metadata": {},
   "outputs": [],
   "source": [
    "channelData = []\n",
    "with open(\"data/two_calm.csv\", \"r\") as data:\n",
    "    for line in data:\n",
    "        line = line.split(\",\")\n",
    "        channelData.append(float(line[0]))\n",
    "\n",
    "for point in range(len(channelData)):\n",
    "    if(point%2 != 0):\n",
    "        channelData[point] = channelData[point-1]"
   ]
  },
  {
   "cell_type": "markdown",
   "metadata": {},
   "source": [
    "### Fast Fourier Transform (Time -> Frequency Domain)"
   ]
  },
  {
   "cell_type": "code",
   "execution_count": 110,
   "metadata": {},
   "outputs": [],
   "source": [
    "fftData = np.fft.fft(channelData)\n",
    "freq = np.fft.fftfreq(len(channelData))*250"
   ]
  },
  {
   "cell_type": "markdown",
   "metadata": {},
   "source": [
    "### Remove Symmetric Negative Data"
   ]
  },
  {
   "cell_type": "code",
   "execution_count": 111,
   "metadata": {},
   "outputs": [],
   "source": [
    "fftData = fftData[1:int(len(fftData)/2)]\n",
    "freq = freq[1:int(len(freq)/2)]"
   ]
  },
  {
   "cell_type": "markdown",
   "metadata": {},
   "source": [
    "### Add Imaginary Component (FFT Formula)"
   ]
  },
  {
   "cell_type": "code",
   "execution_count": 112,
   "metadata": {},
   "outputs": [],
   "source": [
    "fftData = np.sqrt(fftData.real**2 + fftData.imag**2)\n",
    "\n",
    "#Remove upper frequencies\n",
    "freq = freq[0:50000]\n",
    "fftData = fftData[0:50000]"
   ]
  },
  {
   "cell_type": "markdown",
   "metadata": {},
   "source": [
    "### Plot Magnitude vs Frequency"
   ]
  },
  {
   "cell_type": "code",
   "execution_count": 113,
   "metadata": {},
   "outputs": [
    {
     "data": {
      "image/png": "[encoded data removed]",
      "text/plain": [
       "<Figure size 432x288 with 1 Axes>"
      ]
     },
     "metadata": {
      "needs_background": "light"
     },
     "output_type": "display_data"
    },
    {
     "data": {
      "text/plain": [
       "<Figure size 432x288 with 0 Axes>"
      ]
     },
     "metadata": {},
     "output_type": "display_data"
    }
   ],
   "source": [
    "plt.plot(freq, fftData)\n",
    "plt.xlabel(\"Frequency (Hz)\")\n",
    "plt.ylabel(\"Magnitude\")\n",
    "plt.show()\n",
    "plt.clf()"
   ]
  },
  {
   "cell_type": "markdown",
   "metadata": {},
   "source": [
    "### Define Brainwave Bins\n",
    "Gamma > 30 Hz\n",
    "Beta 12–30 Hz\n",
    "Alpha 8–12 Hz\n",
    "Theta 4–8 Hz\n",
    "Delta < 4 Hz"
   ]
  },
  {
   "cell_type": "code",
   "execution_count": 114,
   "metadata": {},
   "outputs": [],
   "source": [
    "bandTotals = [0,0,0,0,0]\n",
    "bandCounts = [0,0,0,0,0]\n",
    "\n",
    "for point in range(len(freq)):\n",
    "    if(freq[point] < 4):\n",
    "        bandTotals[0] += fftData[point]\n",
    "        bandCounts[0] += 1\n",
    "    elif(freq[point] < 8):\n",
    "        bandTotals[1] += fftData[point]\n",
    "        bandCounts[1] += 1\n",
    "    elif(freq[point] < 12):\n",
    "        bandTotals[2] += fftData[point]\n",
    "        bandCounts[2] += 1\n",
    "    elif(freq[point] < 30):\n",
    "        bandTotals[3] += fftData[point]\n",
    "        bandCounts[3] += 1\n",
    "    elif(freq[point] > 30):\n",
    "        bandTotals[4] += fftData[point]\n",
    "        bandCounts[4] += 1\n",
    "        \n",
    "# Save the average of all points \n",
    "bands = list(np.array(bandTotals)/np.array(bandCounts))"
   ]
  },
  {
   "cell_type": "markdown",
   "metadata": {},
   "source": [
    "### Bar Chart of Brainwaves (Amplitude vs Wave Type)"
   ]
  },
  {
   "cell_type": "code",
   "execution_count": 115,
   "metadata": {},
   "outputs": [
    {
     "data": {
      "image/png": "[encoded data removed]",
      "text/plain": [
       "<Figure size 432x288 with 1 Axes>"
      ]
     },
     "metadata": {
      "needs_background": "light"
     },
     "output_type": "display_data"
    },
    {
     "data": {
      "text/plain": [
       "<Figure size 432x288 with 0 Axes>"
      ]
     },
     "metadata": {},
     "output_type": "display_data"
    }
   ],
   "source": [
    "def plotBands(bands):\n",
    "    binNames = [\"Delta\", \"Theta\", \"Alpha\", \"Beta\", \"Gamma\"]\n",
    "    plt.ylabel(\"Amplitude\")\n",
    "    plt.bar(binNames, bands, color=\"#7967e1\")\n",
    "    plt.show()\n",
    "    plt.clf()\n",
    "    \n",
    "plotBands(bands)"
   ]
  },
  {
   "cell_type": "markdown",
   "metadata": {},
   "source": [
    "### Identify most prevalent wave type"
   ]
  },
  {
   "cell_type": "code",
   "execution_count": null,
   "metadata": {},
   "outputs": [],
   "source": [
    "waveType = {\n",
    "    bands[0]:\"Delta\",\n",
    "    bands[1]:\"Theta\",\n",
    "    bands[2]:\"Alpha\",\n",
    "    bands[3]:\"Beta\",\n",
    "    bands[4]:\"Gamma\",}\n",
    "\n",
    "max_waveType = waveType[max(bands)]\n",
    "print(waveType[max(bands)])"
   ]
  },
  {
   "cell_type": "code",
   "execution_count": null,
   "metadata": {},
   "outputs": [],
   "source": [
    "###TEST FLOW CONDITION\n",
    "max_waveType = waveType[bands[2]]\n",
    "print(max_waveType)"
   ]
  },
  {
   "cell_type": "markdown",
   "metadata": {},
   "source": [
    "### Compare to Flowstate (Alpha or Theta) & Count Time spent in Flowstate\n",
    "Is freq Alpha or Theta threshold?\n",
    "    Yes - Play Chill playlist\n",
    "    No higher - Play Relax playlist\n",
    "    No lower - Play Hype playlist"
   ]
  },
  {
   "cell_type": "code",
   "execution_count": 122,
   "metadata": {},
   "outputs": [
    {
     "name": "stdout",
     "output_type": "stream",
     "text": [
      "a\n",
      "Start Flow\n",
      "1627852211.7537339\n",
      "You are in FLOW!\n",
      "End Flow\n",
      "1627852221.8000278\n",
      "--------------------\n",
      "Press enter to stop\n",
      "\n",
      "End time\n",
      "1627852267.360472\n",
      "--------------------\n",
      "You spent 0.16743823289871215 minutes of 7.2392525990804035 minutes in the FLOW state.\n"
     ]
    }
   ],
   "source": [
    "flow_counter = 0\n",
    "t = 0\n",
    "\n",
    "while(t != 5): #fix this\n",
    "    \n",
    "    if max_waveType == (waveType[bands[1]]) or max_waveType == (waveType[bands[2]]): #is most prevalent wave type alpha or theta?\n",
    "    # Start Flow Timer\n",
    "        print(\"Start Flow\")\n",
    "        flow_start_time = time.time()\n",
    "        print(flow_start_time)\n",
    "\n",
    "        print(\"You are in FLOW!\")\n",
    "\n",
    "    #Play Flow Music\n",
    "        player = vlc.MediaPlayer(\"file:///Users/sam/Desktop/NatHacks/LastMinuteHealth/Music/Chill music/\" + random.choice(os.listdir(\"/Users/sam/Desktop/NatHacks/LastMinuteHealth/Music/Chill music\")))\n",
    "        player.play()\n",
    "        time.sleep(10)\n",
    "        player.stop()\n",
    "\n",
    "    # End Flow Timer\n",
    "        flow_end_time = time.time()\n",
    "        print(\"End Flow\")\n",
    "        print(flow_end_time)\n",
    "        print(\"--------------------\")\n",
    "        flow_duration = (flow_end_time - flow_start_time)/60 #converts second to minutes\n",
    "    #TOTAL FLOW COUNTER\n",
    "        flow_counter =+ flow_duration\n",
    "\n",
    "    elif max_waveType == waveType[bands[0]]: #is most prevalent wave type delta?\n",
    "\n",
    "        print(\"You are not in FLOW.\")\n",
    "\n",
    "        player = vlc.MediaPlayer(\"file:///Users/sam/Desktop/NatHacks/LastMinuteHealth/Music/Hype music/\" + random.choice(os.listdir(\"/Users/sam/Desktop/NatHacks/LastMinuteHealth/Music/Hype music\")))\n",
    "        player.play()\n",
    "        time.sleep(10)\n",
    "        player.stop()\n",
    "\n",
    "    elif max_waveType == (waveType[bands[3]]) or max_waveType == (waveType[bands[4]]): #is most prevalent wave type beta or gamma?\n",
    "\n",
    "        print(\"You are not in FLOW.\")\n",
    "\n",
    "        player = vlc.MediaPlayer(\"file:///Users/sam/Desktop/NatHacks/LastMinuteHealth/Music/Relax music/\" + random.choice(os.listdir(\"/Users/sam/Desktop/NatHacks/LastMinuteHealth/Music/Relax music\")))\n",
    "        player.play()\n",
    "        time.sleep(10)\n",
    "        player.stop()\n",
    "\n",
    "\n",
    "#END TOTAL TIMER  \n",
    "    manual_stop = input(\"Press enter to stop\")\n",
    "    total_end_time = time.time()\n",
    "    \n",
    "print(\"End time\")\n",
    "print(total_end_time)\n",
    "print(\"--------------------\")\n",
    "total_duration = (total_end_time - total_start_time)/60 #converts second to minutes\n",
    "\n",
    "print(\"You spent \" + str(flow_counter) + \" minutes of \" + str(total_duration) + \" minutes in the FLOW state.\")"
   ]
  },
  {
   "cell_type": "markdown",
   "metadata": {},
   "source": [
    "### TIMER CODE - FUTURE ADDITION\n",
    "No need to set goal - tracks time and allows you to manually stop whenevere you want"
   ]
  },
  {
   "cell_type": "code",
   "execution_count": null,
   "metadata": {},
   "outputs": [],
   "source": [
    "# print(\"Start time\")\n",
    "# total_start_time = time.time()\n",
    "# print(total_start_time)\n",
    "# manual_stop = input(\"Press enter to stop\")\n",
    "# total_end_time = time.time()\n",
    "# print(\"End time\")\n",
    "# print(total_end_time)\n",
    "# print(\"--------------------\")\n",
    "# total_duration = (total_end_time - total_start_time)/60 #converts second to minutes\n",
    "# print(total_duration)\n",
    "\n",
    "\n",
    "# flow_start_time = time.time()\n",
    "# print(flow_start_time)\n",
    "# manual_stop = input(\"Press enter to stop\")\n",
    "# flow_end_time = time.time()\n",
    "# print(flow_end_time)\n",
    "# print(\"--------------------\")\n",
    "# flow_duration = (flow_end_time - flow_start_time)/60 #converts second to minutes\n",
    "# print(flow_duration)"
   ]
  }
 ],
 "metadata": {
  "kernelspec": {
   "display_name": "Python 3",
   "language": "python",
   "name": "python3"
  },
  "language_info": {
   "codemirror_mode": {
    "name": "ipython",
    "version": 3
   },
   "file_extension": ".py",
   "mimetype": "text/x-python",
   "name": "python",
   "nbconvert_exporter": "python",
   "pygments_lexer": "ipython3",
   "version": "3.8.8"
  }
 },
 "nbformat": 4,
 "nbformat_minor": 4
}
