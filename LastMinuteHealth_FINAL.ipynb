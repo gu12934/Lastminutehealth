{
 "cells": [
  {
   "cell_type": "markdown",
   "metadata": {},
   "source": [
    "# Real-Time Focus Monitor\n",
    "Download VLC media player onto your device (https://www.videolan.org/vlc/)"
   ]
  },
  {
   "cell_type": "code",
   "execution_count": 1,
   "metadata": {},
   "outputs": [
    {
     "name": "stdout",
     "output_type": "stream",
     "text": [
      "Requirement already satisfied: numpy in c:\\users\\mateo\\anaconda3\\lib\\site-packages (1.20.1)\n",
      "Requirement already satisfied: matplotlib in c:\\users\\mateo\\anaconda3\\lib\\site-packages (3.3.4)\n",
      "Requirement already satisfied: python-dateutil>=2.1 in c:\\users\\mateo\\anaconda3\\lib\\site-packages (from matplotlib) (2.8.1)\n",
      "Requirement already satisfied: kiwisolver>=1.0.1 in c:\\users\\mateo\\anaconda3\\lib\\site-packages (from matplotlib) (1.3.1)\n",
      "Requirement already satisfied: pyparsing!=2.0.4,!=2.1.2,!=2.1.6,>=2.0.3 in c:\\users\\mateo\\anaconda3\\lib\\site-packages (from matplotlib) (2.4.7)\n",
      "Requirement already satisfied: pillow>=6.2.0 in c:\\users\\mateo\\anaconda3\\lib\\site-packages (from matplotlib) (8.2.0)\n",
      "Requirement already satisfied: cycler>=0.10 in c:\\users\\mateo\\anaconda3\\lib\\site-packages (from matplotlib) (0.10.0)\n",
      "Requirement already satisfied: numpy>=1.15 in c:\\users\\mateo\\anaconda3\\lib\\site-packages (from matplotlib) (1.20.1)\n",
      "Requirement already satisfied: six in c:\\users\\mateo\\anaconda3\\lib\\site-packages (from cycler>=0.10->matplotlib) (1.15.0)\n",
      "Requirement already satisfied: scipy in c:\\users\\mateo\\anaconda3\\lib\\site-packages (1.6.2)\n",
      "Requirement already satisfied: numpy<1.23.0,>=1.16.5 in c:\\users\\mateo\\anaconda3\\lib\\site-packages (from scipy) (1.20.1)\n",
      "Requirement already satisfied: python-vlc in c:\\users\\mateo\\anaconda3\\lib\\site-packages (3.0.12118)\n",
      "Requirement already satisfied: keyboard in c:\\users\\mateo\\anaconda3\\lib\\site-packages (0.13.5)\n",
      "\n",
      "Done!\n"
     ]
    }
   ],
   "source": [
    "#IMPORT LIBRARIES\n",
    "import sys\n",
    "!{sys.executable} -m pip install numpy\n",
    "!{sys.executable} -m pip install matplotlib\n",
    "!{sys.executable} -m pip install scipy\n",
    "!{sys.executable} -m pip install python-vlc\n",
    "!{sys.executable} -m pip install keyboard\n",
    "\n",
    "import matplotlib.pyplot as plt\n",
    "import numpy as np\n",
    "from scipy.io import wavfile\n",
    "from scipy import signal\n",
    "import vlc\n",
    "import time\n",
    "import random\n",
    "import os\n",
    "import keyboard\n",
    "\n",
    "print(\"\\nDone!\")"
   ]
  },
  {
   "cell_type": "code",
   "execution_count": 3,
   "metadata": {},
   "outputs": [
    {
     "name": "stdout",
     "output_type": "stream",
     "text": [
      "Start\n"
     ]
    },
    {
     "data": {
      "image/png": "[encoded data removed]",
      "text/plain": [
       "<Figure size 432x288 with 1 Axes>"
      ]
     },
     "metadata": {
      "needs_background": "light"
     },
     "output_type": "display_data"
    },
    {
     "data": {
      "image/png": "[encoded data removed]",
      "text/plain": [
       "<Figure size 432x288 with 1 Axes>"
      ]
     },
     "metadata": {
      "needs_background": "light"
     },
     "output_type": "display_data"
    },
    {
     "name": "stdout",
     "output_type": "stream",
     "text": [
      "Theta\n",
      "You are in FLOW!\n"
     ]
    },
    {
     "ename": "AttributeError",
     "evalue": "'NoneType' object has no attribute 'media_player_new'",
     "output_type": "error",
     "traceback": [
      "\u001b[1;31m---------------------------------------------------------------------------\u001b[0m",
      "\u001b[1;31mAttributeError\u001b[0m                            Traceback (most recent call last)",
      "\u001b[1;32m<ipython-input-3-14e25dfb6e7d>\u001b[0m in \u001b[0;36m<module>\u001b[1;34m\u001b[0m\n\u001b[0;32m     96\u001b[0m \u001b[1;33m\u001b[0m\u001b[0m\n\u001b[0;32m     97\u001b[0m             \u001b[1;31m#Play Flow Music\u001b[0m\u001b[1;33m\u001b[0m\u001b[1;33m\u001b[0m\u001b[1;33m\u001b[0m\u001b[0m\n\u001b[1;32m---> 98\u001b[1;33m             \u001b[0mplayer\u001b[0m \u001b[1;33m=\u001b[0m \u001b[0mvlc\u001b[0m\u001b[1;33m.\u001b[0m\u001b[0mMediaPlayer\u001b[0m\u001b[1;33m(\u001b[0m\u001b[1;34mr\"C:\\Users\\Mateo\\Desktop\\Neurotech\\NatHacks\\LastMinuteHealth\\Music\"\u001b[0m \u001b[1;33m+\u001b[0m \u001b[0mrandom\u001b[0m\u001b[1;33m.\u001b[0m\u001b[0mchoice\u001b[0m\u001b[1;33m(\u001b[0m\u001b[0mos\u001b[0m\u001b[1;33m.\u001b[0m\u001b[0mlistdir\u001b[0m\u001b[1;33m(\u001b[0m\u001b[1;34mr\"C:\\Users\\Mateo\\Desktop\\Neurotech\\NatHacks\\LastMinuteHealth\\Music\\Chill music\"\u001b[0m\u001b[1;33m)\u001b[0m\u001b[1;33m)\u001b[0m\u001b[1;33m)\u001b[0m\u001b[1;33m\u001b[0m\u001b[1;33m\u001b[0m\u001b[0m\n\u001b[0m\u001b[0;32m     99\u001b[0m             \u001b[0mplayer\u001b[0m\u001b[1;33m.\u001b[0m\u001b[0mplay\u001b[0m\u001b[1;33m(\u001b[0m\u001b[1;33m)\u001b[0m\u001b[1;33m\u001b[0m\u001b[1;33m\u001b[0m\u001b[0m\n\u001b[0;32m    100\u001b[0m             \u001b[0mtime\u001b[0m\u001b[1;33m.\u001b[0m\u001b[0msleep\u001b[0m\u001b[1;33m(\u001b[0m\u001b[1;36m10\u001b[0m\u001b[1;33m)\u001b[0m\u001b[1;33m\u001b[0m\u001b[1;33m\u001b[0m\u001b[0m\n",
      "\u001b[1;32m~\\anaconda3\\lib\\site-packages\\vlc.py\u001b[0m in \u001b[0;36m__new__\u001b[1;34m(cls, *args)\u001b[0m\n\u001b[0;32m   3252\u001b[0m             \u001b[0minstance\u001b[0m \u001b[1;33m=\u001b[0m \u001b[0mget_default_instance\u001b[0m\u001b[1;33m(\u001b[0m\u001b[1;33m)\u001b[0m\u001b[1;33m\u001b[0m\u001b[1;33m\u001b[0m\u001b[0m\n\u001b[0;32m   3253\u001b[0m \u001b[1;33m\u001b[0m\u001b[0m\n\u001b[1;32m-> 3254\u001b[1;33m         \u001b[0mo\u001b[0m \u001b[1;33m=\u001b[0m \u001b[0minstance\u001b[0m\u001b[1;33m.\u001b[0m\u001b[0mmedia_player_new\u001b[0m\u001b[1;33m(\u001b[0m\u001b[1;33m)\u001b[0m\u001b[1;33m\u001b[0m\u001b[1;33m\u001b[0m\u001b[0m\n\u001b[0m\u001b[0;32m   3255\u001b[0m         \u001b[1;32mif\u001b[0m \u001b[0margs\u001b[0m\u001b[1;33m:\u001b[0m\u001b[1;33m\u001b[0m\u001b[1;33m\u001b[0m\u001b[0m\n\u001b[0;32m   3256\u001b[0m             \u001b[0mo\u001b[0m\u001b[1;33m.\u001b[0m\u001b[0mset_media\u001b[0m\u001b[1;33m(\u001b[0m\u001b[0minstance\u001b[0m\u001b[1;33m.\u001b[0m\u001b[0mmedia_new\u001b[0m\u001b[1;33m(\u001b[0m\u001b[1;33m*\u001b[0m\u001b[0margs\u001b[0m\u001b[1;33m)\u001b[0m\u001b[1;33m)\u001b[0m\u001b[1;33m\u001b[0m\u001b[1;33m\u001b[0m\u001b[0m\n",
      "\u001b[1;31mAttributeError\u001b[0m: 'NoneType' object has no attribute 'media_player_new'"
     ]
    },
    {
     "data": {
      "text/plain": [
       "<Figure size 432x288 with 0 Axes>"
      ]
     },
     "metadata": {},
     "output_type": "display_data"
    }
   ],
   "source": [
    "#START TIMER\n",
    "print(\"Start\")\n",
    "total_start_time = time.time()\n",
    "\n",
    "flow_counter = 0\n",
    "\n",
    "while True:\n",
    "\n",
    "        #IMPORT DATA - *LIVE DATA INPUT GOES HERE - call it channelData*\n",
    "        channelData = []\n",
    "        with open(\"data/withoutPowerline.csv\", \"r\") as data:\n",
    "            for line in data:\n",
    "                line = line.split(\",\")\n",
    "                channelData.append(float(line[0]))\n",
    "\n",
    "        for point in range(len(channelData)):\n",
    "            if(point%2 != 0):\n",
    "                channelData[point] = channelData[point-1]\n",
    "\n",
    "        #FFT\n",
    "        fftData = np.fft.fft(channelData)\n",
    "        freq = np.fft.fftfreq(len(channelData))*250\n",
    "\n",
    "        #REMOVE SYMMETRIC NEGATIVE DATA\n",
    "        fftData = fftData[1:int(len(fftData)/2)]\n",
    "        freq = freq[1:int(len(freq)/2)]\n",
    "\n",
    "        #FFT FORMULA WITH IMAGONARY COMPONENT\n",
    "        fftData = np.sqrt(fftData.real**2 + fftData.imag**2)\n",
    "\n",
    "        #REMOVE UPPER FREQUENCIES\n",
    "        freq = freq[0:50000]\n",
    "        fftData = fftData[0:50000]\n",
    "\n",
    "        #FREQUENCY DOMAIN PLOT\n",
    "        plt.plot(freq, fftData)\n",
    "        plt.xlabel(\"Frequency (Hz)\")\n",
    "        plt.ylabel(\"Magnitude\")\n",
    "        plt.show()\n",
    "        plt.clf()\n",
    "\n",
    "        #DEFINE BINS FOR BRAINWAVE TYPES\n",
    "        bandTotals = [0,0,0,0,0]\n",
    "        bandCounts = [0,0,0,0,0]\n",
    "\n",
    "        for point in range(len(freq)):\n",
    "            if(freq[point] < 4):\n",
    "                bandTotals[0] += fftData[point]\n",
    "                bandCounts[0] += 1\n",
    "            elif(freq[point] < 8):\n",
    "                bandTotals[1] += fftData[point]\n",
    "                bandCounts[1] += 1\n",
    "            elif(freq[point] < 12):\n",
    "                bandTotals[2] += fftData[point]\n",
    "                bandCounts[2] += 1\n",
    "            elif(freq[point] < 30):\n",
    "                bandTotals[3] += fftData[point]\n",
    "                bandCounts[3] += 1\n",
    "            elif(freq[point] > 30):\n",
    "                bandTotals[4] += fftData[point]\n",
    "                bandCounts[4] += 1\n",
    "\n",
    "        #SAVE AVG OF ALL POINTS \n",
    "        bands = list(np.array(bandTotals)/np.array(bandCounts))\n",
    "\n",
    "        #BAR GRAPH WITH BRAINWAVE BINS\n",
    "        def plotBands(bands):\n",
    "            binNames = [\"Delta\", \"Theta\", \"Alpha\", \"Beta\", \"Gamma\"]\n",
    "            plt.ylabel(\"Amplitude\")\n",
    "            plt.bar(binNames, bands, color=\"mediumorchid\")\n",
    "            plt.show()\n",
    "            plt.clf()\n",
    "\n",
    "        plotBands(bands)\n",
    "\n",
    "        #IDENTIFY MOST PREVALENT WAVE TYPE\n",
    "        waveType = {\n",
    "            bands[0]:\"Delta\",\n",
    "            bands[1]:\"Theta\",\n",
    "            bands[2]:\"Alpha\",\n",
    "            bands[3]:\"Beta\",\n",
    "            bands[4]:\"Gamma\",}\n",
    "\n",
    "        max_waveType = waveType[max(bands)]\n",
    "        print(waveType[max(bands)])\n",
    "#         max_waveType = waveType[bands[2]] #use this to test\n",
    "\n",
    "        #COMPARE MAX WAVE TYPE TO FLOW STATE (Alpha or Theta) vs TOO HYPER (Gamma or Beta) vs TOO RELAXED (Delta)\n",
    "\n",
    "        if max_waveType == (waveType[bands[1]]) or max_waveType == (waveType[bands[2]]): #is most prevalent wave type alpha or theta?\n",
    "            \n",
    "            # Start Flow Time\n",
    "            flow_start_time = time.time()\n",
    "\n",
    "            print(\"You are in FLOW!\")\n",
    "\n",
    "            #Play Flow Music\n",
    "            player = vlc.MediaPlayer(r\"C:\\Users\\Mateo\\Desktop\\Neurotech\\NatHacks\\LastMinuteHealth\\Music\" + random.choice(os.listdir(r\"C:\\Users\\Mateo\\Desktop\\Neurotech\\NatHacks\\LastMinuteHealth\\Music\\Chill music\")))\n",
    "            player.play()\n",
    "            time.sleep(10)\n",
    "            player.stop()\n",
    "\n",
    "            # End Flow Timer\n",
    "            flow_end_time = time.time()\n",
    "            flow_duration = (flow_end_time - flow_start_time)/60 #converts seconds to minutes\n",
    "            flow_counter = flow_counter + flow_duration\n",
    "            \n",
    "            if keyboard.is_pressed('esc'):\n",
    "                print('Done Working!')\n",
    "                total_end_time = time.time()\n",
    "                print(\"Work Summary\")\n",
    "                print(\"--------------------\")\n",
    "                total_duration = (total_end_time - total_start_time)/60 #converts second \n",
    "                print(\"You spent \" + str(\"%.2f\" % flow_counter) + \" minutes of \" + str(\"%.2f\" % total_duration) + \" minutes in the FLOW state.\")\n",
    "                break\n",
    "\n",
    "            else:\n",
    "                total_end_time = time.time()\n",
    "                total_duration = (total_end_time - total_start_time)/60 #converts second \n",
    "                print(\"You spent \" + str(\"%.2f\" % flow_counter) + \" minutes of \" + str(\"%.2f\" % total_duration) + \" minutes in the FLOW state. Keep going!\")\n",
    "                continue\n",
    "\n",
    "        elif max_waveType == waveType[bands[0]]: #is most prevalent wave type delta?\n",
    "\n",
    "            print(\"You are not in FLOW.\")\n",
    "\n",
    "            player = vlc.MediaPlayer(r\"C:\\Users\\Mateo\\Desktop\\Neurotech\\NatHacks\\LastMinuteHealth\\Music\" + random.choice(os.listdir(r\"C:\\Users\\Mateo\\Desktop\\Neurotech\\NatHacks\\LastMinuteHealth\\Music\\Hype music\")))\n",
    "            player.play()\n",
    "            time.sleep(10)\n",
    "            player.stop()\n",
    "            \n",
    "            if keyboard.is_pressed('esc'):\n",
    "                print('Done Working!')\n",
    "                total_end_time = time.time()\n",
    "                print(\"Work Summary\")\n",
    "                print(\"--------------------\")\n",
    "                total_duration = (total_end_time - total_start_time)/60 #converts second \n",
    "                print(\"You spent \" + str(\"%.2f\" % flow_counter) + \" minutes of \" + str(\"%.2f\" % total_duration) + \" minutes in the FLOW state.\")\n",
    "                break\n",
    "\n",
    "            else:\n",
    "                total_end_time = time.time()\n",
    "                total_duration = (total_end_time - total_start_time)/60 #converts second \n",
    "                print(\"You spent \" + str(\"%.2f\" % flow_counter) + \" minutes of \" + str(\"%.2f\" % total_duration) + \" minutes in the FLOW state. Keep going!\")\n",
    "                continue\n",
    "\n",
    "        elif max_waveType == (waveType[bands[3]]) or max_waveType == (waveType[bands[4]]): #is most prevalent wave type beta or gamma?\n",
    "\n",
    "            print(\"You are not in FLOW.\")\n",
    "\n",
    "            player = vlc.MediaPlayer(r\"C:\\Users\\Mateo\\Desktop\\Neurotech\\NatHacks\\LastMinuteHealth\\Music\" + random.choice(os.listdir(r\"C:\\Users\\Mateo\\Desktop\\Neurotech\\NatHacks\\LastMinuteHealth\\Music\\Relax music\")))\n",
    "            player.play()\n",
    "            time.sleep(10)\n",
    "            player.stop()\n",
    "            \n",
    "            if keyboard.is_pressed('esc'):\n",
    "                print('Done Working!')\n",
    "                total_end_time = time.time()\n",
    "                print(\"Work Summary\")\n",
    "                print(\"--------------------\")\n",
    "                total_duration = (total_end_time - total_start_time)/60 #converts second \n",
    "                print(\"You spent \" + str(\"%.2f\" % flow_counter) + \" minutes of \" + str(\"%.2f\" % total_duration) + \" minutes in the FLOW state.\")\n",
    "                break\n",
    "\n",
    "            else:\n",
    "                total_end_time = time.time()\n",
    "                total_duration = (total_end_time - total_start_time)/60 #converts second \n",
    "                print(\"You spent \" + str(\"%.2f\" % flow_counter) + \" minutes of \" + str(\"%.2f\" % total_duration) + \" minutes in the FLOW state. Keep going!\")\n",
    "                continue\n"
   ]
  },
  {
   "cell_type": "code",
   "execution_count": null,
   "metadata": {},
   "outputs": [],
   "source": []
  }
 ],
 "metadata": {
  "kernelspec": {
   "display_name": "Python 3",
   "language": "python",
   "name": "python3"
  },
  "language_info": {
   "codemirror_mode": {
    "name": "ipython",
    "version": 3
   },
   "file_extension": ".py",
   "mimetype": "text/x-python",
   "name": "python",
   "nbconvert_exporter": "python",
   "pygments_lexer": "ipython3",
   "version": "3.8.8"
  }
 },
 "nbformat": 4,
 "nbformat_minor": 4
}
